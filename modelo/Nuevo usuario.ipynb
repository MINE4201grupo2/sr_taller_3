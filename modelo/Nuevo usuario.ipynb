{
 "cells": [
  {
   "cell_type": "code",
   "execution_count": 100,
   "metadata": {},
   "outputs": [
    {
     "data": {
      "text/plain": [
       "array([[1.        , 0.        , 0.02597622, ..., 0.02360961, 0.        ,\n",
       "        0.02553215],\n",
       "       [0.        , 1.        , 0.02418254, ..., 0.02197935, 0.02721655,\n",
       "        0.        ],\n",
       "       [0.02597622, 0.02418254, 1.        , ..., 0.03189099, 0.01974496,\n",
       "        0.01724394],\n",
       "       ...,\n",
       "       [0.02360961, 0.02197935, 0.03189099, ..., 1.        , 0.01794606,\n",
       "        0.0156729 ],\n",
       "       [0.        , 0.02721655, 0.01974496, ..., 0.01794606, 1.        ,\n",
       "        0.        ],\n",
       "       [0.02553215, 0.        , 0.01724394, ..., 0.0156729 , 0.        ,\n",
       "        1.        ]])"
      ]
     },
     "execution_count": 100,
     "metadata": {},
     "output_type": "execute_result"
    }
   ],
   "source": [
    "import pickle\n",
    "import pandas as pd\n",
    "import mysql.connector\n",
    "from mysql.connector import errorcode\n",
    "import math\n",
    "import sys\n",
    "import csv\n",
    "import sys, getopt\n",
    "import json\n",
    "import os\n",
    "import numpy as np\n",
    "import pandas as pd\n",
    "import seaborn as sns\n",
    "from surprise import Reader\n",
    "from surprise import Dataset\n",
    "from surprise.model_selection import train_test_split\n",
    "from surprise import KNNBasic\n",
    "from surprise import accuracy\n",
    "import random\n",
    "import pandas as pd\n",
    "from rake_nltk import Rake\n",
    "#pip install rake-nltk\n",
    "import numpy as np\n",
    "from sklearn.metrics.pairwise import cosine_similarity\n",
    "from sklearn.feature_extraction.text import CountVectorizer\n",
    "\n",
    "#Configuración de la conexión a Mysql\n",
    "try:\n",
    "    cnx = mysql.connector.connect(user='user_taller3', password='taller3.', host='127.0.0.1', database='taller3')\n",
    "except mysql.connector.Error as err:\n",
    "    if err.errno == errorcode.ER_ACCESS_DENIED_ERROR:\n",
    "      print(\"Something is wrong with your user name or password\")\n",
    "    elif err.errno == errorcode.ER_BAD_DB_ERROR:\n",
    "      print(\"Database does not exist\")\n",
    "    else:\n",
    "      print(err)\n",
    "\n",
    "cursor = cnx.cursor()\n",
    "# Print arguments one by one\n",
    "#print ('First argument:',  str(argv))\n",
    "file_path = './movies_bagofwords.csv'\n",
    "df=pd.read_csv(file_path, sep = ',', header=0, names = [\"movieId\",\"title\",\"bagofwords\"] )\n",
    "# instantiating and generating the count matrix\n",
    "count = CountVectorizer()\n",
    "count_matrix = count.fit_transform(df['bagofwords'])\n",
    "\n",
    "# generating the cosine similarity matrix\n",
    "cosine_sim = cosine_similarity(count_matrix, count_matrix)\n",
    "cosine_sim \n"
   ]
  },
  {
   "cell_type": "code",
   "execution_count": 77,
   "metadata": {},
   "outputs": [],
   "source": [
    "# creating a Series for the movie titles so they are associated to an ordered numerical\n",
    "# list I will use in the function to match the indexes\n",
    "indices = pd.Series(df.index)\n",
    "\n",
    "#  defining the function that takes in movie title \n",
    "# as input and returns the top 10 recommended movies\n",
    "def recommendations(title, cosine_sim = cosine_sim):\n",
    "\n",
    "    # initializing the empty list of recommended movies\n",
    "    recommended_movies = []\n",
    "    # gettin the index of the movie that matches the title\n",
    "    idx = indices[indices == title].index[0]\n",
    "\n",
    "    # creating a Series with the similarity scores in descending order\n",
    "    score_series = pd.Series(cosine_sim[idx]).sort_values(ascending = False)\n",
    "\n",
    "    # getting the indexes of the 10 most similar movies\n",
    "    top_10_indexes = list(score_series.iloc[1:11].index)\n",
    "\n",
    "    # populating the list with the titles of the best 10 matching movies\n",
    "    for i in top_10_indexes:\n",
    "        recommended_movies.append(list(df.index)[i])\n",
    "        #print(\"not recomend\")\n",
    "    return recommended_movies"
   ]
  },
  {
   "cell_type": "code",
   "execution_count": 120,
   "metadata": {
    "scrolled": false
   },
   "outputs": [
    {
     "name": "stdout",
     "output_type": "stream",
     "text": [
      "   user_id movie_id  score\n",
      "0        2       63      5\n",
      "1        2       68      5\n"
     ]
    }
   ],
   "source": [
    "#user_id= str(argv)\n",
    "user_id = 2\n",
    "sql_artists = \"SELECT user_id,movie_id,score from preferences where user_id =\"+ str(2)\n",
    "#print(cursor.execute(sql_artists))\n",
    "ratings = pd.DataFrame()\n",
    "ratings = ratings.append(pd.read_sql(sql_artists, cnx))\n",
    "print(ratings)"
   ]
  },
  {
   "cell_type": "code",
   "execution_count": 134,
   "metadata": {},
   "outputs": [
    {
     "ename": "IndexError",
     "evalue": "index 0 is out of bounds for axis 0 with size 0",
     "output_type": "error",
     "traceback": [
      "\u001b[1;31m---------------------------------------------------------------------------\u001b[0m",
      "\u001b[1;31mIndexError\u001b[0m                                Traceback (most recent call last)",
      "\u001b[1;32m<ipython-input-134-d44970f03d77>\u001b[0m in \u001b[0;36m<module>\u001b[1;34m\u001b[0m\n\u001b[0;32m     20\u001b[0m                 \u001b[0mprint\u001b[0m\u001b[1;33m(\u001b[0m\u001b[0mbusiness_id\u001b[0m\u001b[1;33m)\u001b[0m\u001b[1;33m\u001b[0m\u001b[1;33m\u001b[0m\u001b[0m\n\u001b[0;32m     21\u001b[0m                 \u001b[1;32mbreak\u001b[0m\u001b[1;33m\u001b[0m\u001b[1;33m\u001b[0m\u001b[0m\n\u001b[1;32m---> 22\u001b[1;33m         \u001b[0mlist_rec\u001b[0m \u001b[1;33m=\u001b[0m \u001b[0mrecommendations\u001b[0m\u001b[1;33m(\u001b[0m\u001b[0mstr\u001b[0m\u001b[1;33m(\u001b[0m\u001b[0mbusiness_id\u001b[0m\u001b[1;33m)\u001b[0m\u001b[1;33m)\u001b[0m\u001b[1;33m\u001b[0m\u001b[1;33m\u001b[0m\u001b[0m\n\u001b[0m\u001b[0;32m     23\u001b[0m         \u001b[0mprint\u001b[0m\u001b[1;33m(\u001b[0m\u001b[0mlist_rec\u001b[0m\u001b[1;33m)\u001b[0m\u001b[1;33m\u001b[0m\u001b[1;33m\u001b[0m\u001b[0m\n\u001b[0;32m     24\u001b[0m         \u001b[1;32mif\u001b[0m \u001b[0mlen\u001b[0m\u001b[1;33m(\u001b[0m\u001b[0mlist_rec\u001b[0m\u001b[1;33m)\u001b[0m \u001b[1;33m>\u001b[0m\u001b[1;36m0\u001b[0m\u001b[1;33m:\u001b[0m\u001b[1;33m\u001b[0m\u001b[1;33m\u001b[0m\u001b[0m\n",
      "\u001b[1;32m<ipython-input-77-27a4d48520d0>\u001b[0m in \u001b[0;36mrecommendations\u001b[1;34m(title, cosine_sim)\u001b[0m\n\u001b[0;32m     10\u001b[0m     \u001b[0mrecommended_movies\u001b[0m \u001b[1;33m=\u001b[0m \u001b[1;33m[\u001b[0m\u001b[1;33m]\u001b[0m\u001b[1;33m\u001b[0m\u001b[1;33m\u001b[0m\u001b[0m\n\u001b[0;32m     11\u001b[0m     \u001b[1;31m# gettin the index of the movie that matches the title\u001b[0m\u001b[1;33m\u001b[0m\u001b[1;33m\u001b[0m\u001b[1;33m\u001b[0m\u001b[0m\n\u001b[1;32m---> 12\u001b[1;33m     \u001b[0midx\u001b[0m \u001b[1;33m=\u001b[0m \u001b[0mindices\u001b[0m\u001b[1;33m[\u001b[0m\u001b[0mindices\u001b[0m \u001b[1;33m==\u001b[0m \u001b[0mtitle\u001b[0m\u001b[1;33m]\u001b[0m\u001b[1;33m.\u001b[0m\u001b[0mindex\u001b[0m\u001b[1;33m[\u001b[0m\u001b[1;36m0\u001b[0m\u001b[1;33m]\u001b[0m\u001b[1;33m\u001b[0m\u001b[1;33m\u001b[0m\u001b[0m\n\u001b[0m\u001b[0;32m     13\u001b[0m \u001b[1;33m\u001b[0m\u001b[0m\n\u001b[0;32m     14\u001b[0m     \u001b[1;31m# creating a Series with the similarity scores in descending order\u001b[0m\u001b[1;33m\u001b[0m\u001b[1;33m\u001b[0m\u001b[1;33m\u001b[0m\u001b[0m\n",
      "\u001b[1;32mc:\\users\\lulol\\anaconda3\\envs\\test\\lib\\site-packages\\pandas\\core\\indexes\\base.py\u001b[0m in \u001b[0;36m__getitem__\u001b[1;34m(self, key)\u001b[0m\n\u001b[0;32m   4295\u001b[0m         \u001b[1;32mif\u001b[0m \u001b[0mis_scalar\u001b[0m\u001b[1;33m(\u001b[0m\u001b[0mkey\u001b[0m\u001b[1;33m)\u001b[0m\u001b[1;33m:\u001b[0m\u001b[1;33m\u001b[0m\u001b[1;33m\u001b[0m\u001b[0m\n\u001b[0;32m   4296\u001b[0m             \u001b[0mkey\u001b[0m \u001b[1;33m=\u001b[0m \u001b[0mcom\u001b[0m\u001b[1;33m.\u001b[0m\u001b[0mcast_scalar_indexer\u001b[0m\u001b[1;33m(\u001b[0m\u001b[0mkey\u001b[0m\u001b[1;33m,\u001b[0m \u001b[0mwarn_float\u001b[0m\u001b[1;33m=\u001b[0m\u001b[1;32mTrue\u001b[0m\u001b[1;33m)\u001b[0m\u001b[1;33m\u001b[0m\u001b[1;33m\u001b[0m\u001b[0m\n\u001b[1;32m-> 4297\u001b[1;33m             \u001b[1;32mreturn\u001b[0m \u001b[0mgetitem\u001b[0m\u001b[1;33m(\u001b[0m\u001b[0mkey\u001b[0m\u001b[1;33m)\u001b[0m\u001b[1;33m\u001b[0m\u001b[1;33m\u001b[0m\u001b[0m\n\u001b[0m\u001b[0;32m   4298\u001b[0m \u001b[1;33m\u001b[0m\u001b[0m\n\u001b[0;32m   4299\u001b[0m         \u001b[1;32mif\u001b[0m \u001b[0misinstance\u001b[0m\u001b[1;33m(\u001b[0m\u001b[0mkey\u001b[0m\u001b[1;33m,\u001b[0m \u001b[0mslice\u001b[0m\u001b[1;33m)\u001b[0m\u001b[1;33m:\u001b[0m\u001b[1;33m\u001b[0m\u001b[1;33m\u001b[0m\u001b[0m\n",
      "\u001b[1;31mIndexError\u001b[0m: index 0 is out of bounds for axis 0 with size 0"
     ]
    }
   ],
   "source": [
    "# load the model from disk\n",
    "import pickle\n",
    "filename = 'filtrado_colaborativo.sav'\n",
    "loaded_model = pickle.load(open(filename, 'rb'))\n",
    "\n",
    "movies= pd.read_csv('ml-latest-small/movies.csv')\n",
    "unique_movies = movies.movieId.unique().shape[0]\n",
    "unique_users = 1\n",
    "matrix_all = np.zeros((unique_users, unique_movies))\n",
    "movies['movie_id_simple'] = pd.factorize(movies.movieId)[0]\n",
    "\n",
    "sql = \"INSERT INTO `recomendations_movies` (`user_id`, `movie_id`, `recomendation_score`) VALUES (%s, %s, %s)\"\n",
    "\n",
    "for i in range(0,unique_users):\n",
    "    #print(user_id)\n",
    "    for k in ratings.index:\n",
    "        for m in df.index:\n",
    "            if ratings['movie_id'][k] == df ['movieId'][m]:\n",
    "                business_id = df['movie_id_simple'][m]\n",
    "                print(business_id)\n",
    "                break\n",
    "        list_rec = recommendations(str(business_id))\n",
    "        print(list_rec)\n",
    "        if len(list_rec) >0:\n",
    "            #print(business_id)\n",
    "            for j in list_rec:\n",
    "                #print(j)\n",
    "                cursor.execute(sql, (str(user_id),str(business_id),5))\n",
    "                cnx.commit()\n",
    "          \n",
    "\n"
   ]
  },
  {
   "cell_type": "code",
   "execution_count": 117,
   "metadata": {},
   "outputs": [
    {
     "data": {
      "text/plain": [
       "'9999999'"
      ]
     },
     "execution_count": 117,
     "metadata": {},
     "output_type": "execute_result"
    }
   ],
   "source": [
    "user_id =162544\n",
    "sql_artists = \"SELECT user_id from users where id = \"+ str(user_id)\n",
    "cursor.execute(sql_artists)\n",
    "# get all records\n",
    "records = cursor.fetchall()\n",
    "records[0][0]"
   ]
  },
  {
   "cell_type": "code",
   "execution_count": 79,
   "metadata": {},
   "outputs": [
    {
     "data": {
      "text/plain": [
       "[180, 47, 212, 78, 131, 160, 287, 473, 418, 69]"
      ]
     },
     "execution_count": 79,
     "metadata": {},
     "output_type": "execute_result"
    }
   ],
   "source": [
    "a =recommendations(68)\n",
    "a"
   ]
  },
  {
   "cell_type": "code",
   "execution_count": 20,
   "metadata": {},
   "outputs": [
    {
     "data": {
      "text/html": [
       "<div>\n",
       "<style scoped>\n",
       "    .dataframe tbody tr th:only-of-type {\n",
       "        vertical-align: middle;\n",
       "    }\n",
       "\n",
       "    .dataframe tbody tr th {\n",
       "        vertical-align: top;\n",
       "    }\n",
       "\n",
       "    .dataframe thead th {\n",
       "        text-align: right;\n",
       "    }\n",
       "</style>\n",
       "<table border=\"1\" class=\"dataframe\">\n",
       "  <thead>\n",
       "    <tr style=\"text-align: right;\">\n",
       "      <th></th>\n",
       "      <th>movieId</th>\n",
       "      <th>title</th>\n",
       "      <th>genres</th>\n",
       "    </tr>\n",
       "  </thead>\n",
       "  <tbody>\n",
       "    <tr>\n",
       "      <th>0</th>\n",
       "      <td>42</td>\n",
       "      <td>Dead Presidents (1995)</td>\n",
       "      <td>Action|Crime|Drama</td>\n",
       "    </tr>\n",
       "    <tr>\n",
       "      <th>1</th>\n",
       "      <td>44</td>\n",
       "      <td>Mortal Kombat (1995)</td>\n",
       "      <td>Action|Adventure|Fantasy</td>\n",
       "    </tr>\n",
       "    <tr>\n",
       "      <th>2</th>\n",
       "      <td>63</td>\n",
       "      <td>Don't Be a Menace to South Central While Drink...</td>\n",
       "      <td>Comedy|Crime</td>\n",
       "    </tr>\n",
       "    <tr>\n",
       "      <th>3</th>\n",
       "      <td>68</td>\n",
       "      <td>French Twist (Gazon maudit) (1995)</td>\n",
       "      <td>Comedy|Romance</td>\n",
       "    </tr>\n",
       "    <tr>\n",
       "      <th>4</th>\n",
       "      <td>79</td>\n",
       "      <td>Juror, The (1996)</td>\n",
       "      <td>Drama|Thriller</td>\n",
       "    </tr>\n",
       "    <tr>\n",
       "      <th>...</th>\n",
       "      <td>...</td>\n",
       "      <td>...</td>\n",
       "      <td>...</td>\n",
       "    </tr>\n",
       "    <tr>\n",
       "      <th>482</th>\n",
       "      <td>172825</td>\n",
       "      <td>Adventures of Mowgli: The Kidnapping (1968)</td>\n",
       "      <td>Adventure|Animation|Children</td>\n",
       "    </tr>\n",
       "    <tr>\n",
       "      <th>483</th>\n",
       "      <td>174727</td>\n",
       "      <td>Good Time (2017)</td>\n",
       "      <td>Crime|Drama</td>\n",
       "    </tr>\n",
       "    <tr>\n",
       "      <th>484</th>\n",
       "      <td>175569</td>\n",
       "      <td>Wind River (2017)</td>\n",
       "      <td>Action|Crime|Mystery|Thriller</td>\n",
       "    </tr>\n",
       "    <tr>\n",
       "      <th>485</th>\n",
       "      <td>182293</td>\n",
       "      <td>Hare-um Scare-um (1939)</td>\n",
       "      <td>Animation|Children|Comedy</td>\n",
       "    </tr>\n",
       "    <tr>\n",
       "      <th>486</th>\n",
       "      <td>183295</td>\n",
       "      <td>Insidious: The Last Key (2018)</td>\n",
       "      <td>Horror|Mystery|Thriller</td>\n",
       "    </tr>\n",
       "  </tbody>\n",
       "</table>\n",
       "<p>487 rows × 3 columns</p>\n",
       "</div>"
      ],
      "text/plain": [
       "     movieId                                              title  \\\n",
       "0         42                             Dead Presidents (1995)   \n",
       "1         44                               Mortal Kombat (1995)   \n",
       "2         63  Don't Be a Menace to South Central While Drink...   \n",
       "3         68                 French Twist (Gazon maudit) (1995)   \n",
       "4         79                                  Juror, The (1996)   \n",
       "..       ...                                                ...   \n",
       "482   172825        Adventures of Mowgli: The Kidnapping (1968)   \n",
       "483   174727                                   Good Time (2017)   \n",
       "484   175569                                  Wind River (2017)   \n",
       "485   182293                            Hare-um Scare-um (1939)   \n",
       "486   183295                     Insidious: The Last Key (2018)   \n",
       "\n",
       "                            genres  \n",
       "0               Action|Crime|Drama  \n",
       "1         Action|Adventure|Fantasy  \n",
       "2                     Comedy|Crime  \n",
       "3                   Comedy|Romance  \n",
       "4                   Drama|Thriller  \n",
       "..                             ...  \n",
       "482   Adventure|Animation|Children  \n",
       "483                    Crime|Drama  \n",
       "484  Action|Crime|Mystery|Thriller  \n",
       "485      Animation|Children|Comedy  \n",
       "486        Horror|Mystery|Thriller  \n",
       "\n",
       "[487 rows x 3 columns]"
      ]
     },
     "execution_count": 20,
     "metadata": {},
     "output_type": "execute_result"
    }
   ],
   "source": [
    "file_path = './movies_bagofwords.csv'\n",
    "df=pd.read_csv(file_path, sep = ',', header=0, names = [\"movieId\",\"title\",\"bagofwords\"] )\n",
    "movies=movies.merge(df,on = 'movieId',how = 'inner')\n",
    "movies = movies [['movieId','title','genres']]\n",
    "movies"
   ]
  },
  {
   "cell_type": "markdown",
   "metadata": {},
   "source": [
    "## insert only movies that have bagofwords"
   ]
  },
  {
   "cell_type": "code",
   "execution_count": 24,
   "metadata": {},
   "outputs": [
    {
     "name": "stdout",
     "output_type": "stream",
     "text": [
      "Finish reading file and dtaframes\n",
      "Int64Index([  0,   1,   2,   3,   4,   5,   6,   7,   8,   9,\n",
      "            ...\n",
      "            477, 478, 479, 480, 481, 482, 483, 484, 485, 486],\n",
      "           dtype='int64', length=487)\n"
     ]
    }
   ],
   "source": [
    "import pandas as pd\n",
    "import mysql.connector\n",
    "from mysql.connector import errorcode\n",
    "import math\n",
    "import sys\n",
    "import csv\n",
    "import os\n",
    "import pandas as pd\n",
    "\n",
    "#Configuración de la conexión a Mysql\n",
    "try:\n",
    "  cnx = mysql.connector.connect(user='user_taller3', password='taller3.', host='127.0.0.1', database='taller3')\n",
    "except mysql.connector.Error as err:\n",
    "  if err.errno == errorcode.ER_ACCESS_DENIED_ERROR:\n",
    "    print(\"Something is wrong with your user name or password\")\n",
    "  elif err.errno == errorcode.ER_BAD_DB_ERROR:\n",
    "    print(\"Database does not exist\")\n",
    "  else:\n",
    "    print(err)\n",
    "\n",
    "cursor = cnx.cursor()\n",
    "df_b=movies\n",
    "\n",
    "#df_explode = df_b.assign(categories = df_b.categories\n",
    "#                         .str.split(', ')).explode('categories')\n",
    "#df_explode=df_explode.reset_index()\n",
    "#df_explode\n",
    "\n",
    "print(\"Finish reading file and dtaframes\")\n",
    "\n",
    "# Create a new record\n",
    "sql = \"INSERT INTO `movies` (`movies_id`, `title`, `genres`) VALUES (%s, %s, %s)\"\n",
    "\n",
    "\n",
    "def isNaN(string):\n",
    "    return string != string\n",
    "print(df_b.index)\n",
    "for i in df_b.index: \n",
    "  # Execute the query\n",
    "  var1= df_b['movieId'][i]\n",
    "  var2= df_b['title'][i]\n",
    "  var3= df_b['genres'][i]\n",
    "\n",
    "\n",
    "  try:\n",
    "    #print(var1,var2,var3)\n",
    "    cursor.execute(sql, (int(var1),var2,var3))\n",
    "  except mysql.connector.errors.DataError as err:\n",
    "    print(\"Track var 1: \"+ var1+ \" \")\n",
    "    sys.exit(1)\n",
    "  \n",
    "  # the connection is not autocommited by default. So we must commit to save our changes.\n",
    "  cnx.commit()\n",
    "\n",
    "\n",
    "#print(df_artist)\n",
    "cursor.close()\n",
    "cnx.close()"
   ]
  },
  {
   "cell_type": "code",
   "execution_count": null,
   "metadata": {},
   "outputs": [],
   "source": [
    "  send_message_back = {\n",
    "    'arguments': argv,\n",
    "    'message': \"\"\"Hello,\n",
    "  This is my message.\n",
    "  To the world\"\"\"\n",
    "  }\n",
    "  print(json.dumps(send_message_back))\n",
    "  \n",
    "if __name__ == \"__main__\":\n",
    "    main(sys.argv[1])"
   ]
  }
 ],
 "metadata": {
  "kernelspec": {
   "display_name": "test",
   "language": "python",
   "name": "test"
  },
  "language_info": {
   "codemirror_mode": {
    "name": "ipython",
    "version": 3
   },
   "file_extension": ".py",
   "mimetype": "text/x-python",
   "name": "python",
   "nbconvert_exporter": "python",
   "pygments_lexer": "ipython3",
   "version": "3.8.8"
  }
 },
 "nbformat": 4,
 "nbformat_minor": 4
}
